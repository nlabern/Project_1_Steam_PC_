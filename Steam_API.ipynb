{
 "cells": [
  {
   "cell_type": "code",
   "execution_count": 1,
   "id": "720407d5-f186-4186-b92a-092079119f59",
   "metadata": {},
   "outputs": [],
   "source": [
    "import requests\n",
    "import json\n",
    "import pandas as pd\n",
    "from config import api_key\n",
    "from steamids import steamid"
   ]
  },
  {
   "cell_type": "code",
   "execution_count": 7,
   "id": "6f71403d-b995-466d-b0c2-f52944ee3243",
   "metadata": {},
   "outputs": [
    {
     "name": "stdout",
     "output_type": "stream",
     "text": [
      "http://api.steampowered.com/ISteamUser/GetPlayerSummaries/v0002/?key=076187277A8949D41114836A49873179&steamids=76561198020150649\n"
     ]
    }
   ],
   "source": [
    "#Data from the Steam API, looks like only per user info is allowed?  Using my \"steamid\" for testing.\n",
    "key = api_key\n",
    "url = f\"http://api.steampowered.com/ISteamUser/GetPlayerSummaries/v0002/?key={api_key}&steamids={steamid}\"\n",
    "response = requests.get(url).json()\n",
    "print(url)\n",
    "\n"
   ]
  },
  {
   "cell_type": "code",
   "execution_count": 8,
   "id": "30eeee45-049d-4908-ba8d-e6f5086dd3de",
   "metadata": {},
   "outputs": [
    {
     "name": "stdout",
     "output_type": "stream",
     "text": [
      "{\n",
      "    \"response\": {\n",
      "        \"players\": [\n",
      "            {\n",
      "                \"avatar\": \"https://avatars.steamstatic.com/b41610e0a235e45c0174ab806db2e0d57225217f.jpg\",\n",
      "                \"avatarfull\": \"https://avatars.steamstatic.com/b41610e0a235e45c0174ab806db2e0d57225217f_full.jpg\",\n",
      "                \"avatarhash\": \"b41610e0a235e45c0174ab806db2e0d57225217f\",\n",
      "                \"avatarmedium\": \"https://avatars.steamstatic.com/b41610e0a235e45c0174ab806db2e0d57225217f_medium.jpg\",\n",
      "                \"communityvisibilitystate\": 3,\n",
      "                \"lastlogoff\": 1718094020,\n",
      "                \"loccityid\": 4816,\n",
      "                \"loccountrycode\": \"CA\",\n",
      "                \"locstatecode\": \"ON\",\n",
      "                \"personaname\": \"Neo\",\n",
      "                \"personastate\": 1,\n",
      "                \"personastateflags\": 0,\n",
      "                \"primaryclanid\": \"103582791429742235\",\n",
      "                \"profilestate\": 1,\n",
      "                \"profileurl\": \"https://steamcommunity.com/profiles/76561198020150649/\",\n",
      "                \"realname\": \"Neal\",\n",
      "                \"steamid\": \"76561198020150649\",\n",
      "                \"timecreated\": 1264172219\n",
      "            }\n",
      "        ]\n",
      "    }\n",
      "}\n"
     ]
    }
   ],
   "source": [
    "print(json.dumps(response, indent=4, sort_keys=True))"
   ]
  },
  {
   "cell_type": "code",
   "execution_count": null,
   "id": "e23d4fbe-f007-42f3-8f45-7d886c972bb9",
   "metadata": {},
   "outputs": [],
   "source": []
  }
 ],
 "metadata": {
  "kernelspec": {
   "display_name": "Python 3 (ipykernel)",
   "language": "python",
   "name": "python3"
  },
  "language_info": {
   "codemirror_mode": {
    "name": "ipython",
    "version": 3
   },
   "file_extension": ".py",
   "mimetype": "text/x-python",
   "name": "python",
   "nbconvert_exporter": "python",
   "pygments_lexer": "ipython3",
   "version": "3.11.7"
  }
 },
 "nbformat": 4,
 "nbformat_minor": 5
}
