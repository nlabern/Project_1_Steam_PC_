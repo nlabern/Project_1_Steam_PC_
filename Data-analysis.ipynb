{
 "cells": [
  {
   "cell_type": "code",
   "execution_count": 1,
   "metadata": {},
   "outputs": [],
   "source": [
    "import pandas as pd\n",
    "import matplotlib.pyplot as plt\n",
    "import numpy as np\n",
    "import scipy.stats as st\n",
    "from scipy.stats import linregress\n",
    "\n"
   ]
  },
  {
   "cell_type": "markdown",
   "metadata": {},
   "source": [
    "# Summary Statistics"
   ]
  },
  {
   "cell_type": "code",
   "execution_count": 17,
   "metadata": {},
   "outputs": [],
   "source": [
    "# reading a saved data\n",
    "game_avg_df = pd.read_csv(\"Game_Data/game_avg.csv\")\n",
    "game_mode_df = pd.read_csv(\"Game_Data/game_mode.csv\")\n",
    "genre_df = pd.read_csv(\"Game_Data/genre.csv\")\n",
    "release_df = pd.read_csv(\"Game_Data/released_date.csv\")\n",
    "dev_df = pd.read_csv(\"Game_Data/developer.csv\")\n",
    "pub_df = pd.read_csv(\"Game_Data/publisher.csv\")"
   ]
  },
  {
   "cell_type": "code",
   "execution_count": 3,
   "metadata": {},
   "outputs": [
    {
     "data": {
      "text/html": [
       "<div>\n",
       "<style scoped>\n",
       "    .dataframe tbody tr th:only-of-type {\n",
       "        vertical-align: middle;\n",
       "    }\n",
       "\n",
       "    .dataframe tbody tr th {\n",
       "        vertical-align: top;\n",
       "    }\n",
       "\n",
       "    .dataframe thead th {\n",
       "        text-align: right;\n",
       "    }\n",
       "</style>\n",
       "<table border=\"1\" class=\"dataframe\">\n",
       "  <thead>\n",
       "    <tr style=\"text-align: right;\">\n",
       "      <th></th>\n",
       "      <th>Average Score</th>\n",
       "      <th>Score Count</th>\n",
       "    </tr>\n",
       "  </thead>\n",
       "  <tbody>\n",
       "    <tr>\n",
       "      <th>count</th>\n",
       "      <td>415.000000</td>\n",
       "      <td>415.000000</td>\n",
       "    </tr>\n",
       "    <tr>\n",
       "      <th>mean</th>\n",
       "      <td>67.719716</td>\n",
       "      <td>8.074699</td>\n",
       "    </tr>\n",
       "    <tr>\n",
       "      <th>std</th>\n",
       "      <td>14.002776</td>\n",
       "      <td>17.444784</td>\n",
       "    </tr>\n",
       "    <tr>\n",
       "      <th>min</th>\n",
       "      <td>0.000000</td>\n",
       "      <td>1.000000</td>\n",
       "    </tr>\n",
       "    <tr>\n",
       "      <th>25%</th>\n",
       "      <td>60.000000</td>\n",
       "      <td>2.000000</td>\n",
       "    </tr>\n",
       "    <tr>\n",
       "      <th>50%</th>\n",
       "      <td>70.000000</td>\n",
       "      <td>3.000000</td>\n",
       "    </tr>\n",
       "    <tr>\n",
       "      <th>75%</th>\n",
       "      <td>80.000000</td>\n",
       "      <td>8.000000</td>\n",
       "    </tr>\n",
       "    <tr>\n",
       "      <th>max</th>\n",
       "      <td>96.411723</td>\n",
       "      <td>166.000000</td>\n",
       "    </tr>\n",
       "  </tbody>\n",
       "</table>\n",
       "</div>"
      ],
      "text/plain": [
       "       Average Score  Score Count\n",
       "count     415.000000   415.000000\n",
       "mean       67.719716     8.074699\n",
       "std        14.002776    17.444784\n",
       "min         0.000000     1.000000\n",
       "25%        60.000000     2.000000\n",
       "50%        70.000000     3.000000\n",
       "75%        80.000000     8.000000\n",
       "max        96.411723   166.000000"
      ]
     },
     "execution_count": 3,
     "metadata": {},
     "output_type": "execute_result"
    }
   ],
   "source": [
    "# game average summary using describe\n",
    "game_avg_df = game_avg_df[['Title' ,'Average Score' ,'Score Count']]\n",
    "\n",
    "game_avg_df.describe()"
   ]
  },
  {
   "cell_type": "code",
   "execution_count": 5,
   "metadata": {},
   "outputs": [
    {
     "data": {
      "text/plain": [
       "Game Modes\n",
       "Single player                         369\n",
       "Multiplayer                           202\n",
       "Co-operative                          139\n",
       "Massively Multiplayer Online (MMO)     39\n",
       "Battle Royale                          10\n",
       "Split screen                            7\n",
       "Name: count, dtype: int64"
      ]
     },
     "execution_count": 5,
     "metadata": {},
     "output_type": "execute_result"
    }
   ],
   "source": [
    "# game mode summary using value counts\n",
    "game_mode_df[\"Game Modes\"].value_counts()\n"
   ]
  },
  {
   "cell_type": "code",
   "execution_count": 6,
   "metadata": {},
   "outputs": [
    {
     "data": {
      "text/plain": [
       "Genres\n",
       "Indie                         344\n",
       "Adventure                     184\n",
       "Simulator                     175\n",
       "Role-playing (RPG)            158\n",
       "Strategy                      150\n",
       "Shooter                        76\n",
       "Arcade                         36\n",
       "Racing                         27\n",
       "Puzzle                         26\n",
       "Sport                          23\n",
       "Real Time Strategy (RTS)       18\n",
       "Fighting                       18\n",
       "Platform                       18\n",
       "Card & Board Game              17\n",
       "Tactical                       16\n",
       "Hack and slash/Beat 'em up     14\n",
       "Turn-based strategy (TBS)      12\n",
       "Point-and-click                 7\n",
       "Music                           6\n",
       "Visual Novel                    4\n",
       "MOBA                            3\n",
       "Name: count, dtype: int64"
      ]
     },
     "execution_count": 6,
     "metadata": {},
     "output_type": "execute_result"
    }
   ],
   "source": [
    "# genre summary using value counts\n",
    "genre_df[\"Genres\"].value_counts()"
   ]
  },
  {
   "cell_type": "code",
   "execution_count": 7,
   "metadata": {},
   "outputs": [
    {
     "data": {
      "text/plain": [
       "Dates\n",
       "TBD             34\n",
       "2024            10\n",
       "Jul 20, 2023     9\n",
       "Sep 12, 2023     8\n",
       "Oct 22, 2020     8\n",
       "                ..\n",
       "Dec 23, 2021     1\n",
       "May 27, 2023     1\n",
       "Jan 28, 2021     1\n",
       "Nov 01, 2019     1\n",
       "Sep 08, 2020     1\n",
       "Name: count, Length: 604, dtype: int64"
      ]
     },
     "execution_count": 7,
     "metadata": {},
     "output_type": "execute_result"
    }
   ],
   "source": [
    "# release date summary using value counts\n",
    "release_df[\"Dates\"].value_counts()\n"
   ]
  },
  {
   "cell_type": "code",
   "execution_count": 8,
   "metadata": {},
   "outputs": [
    {
     "data": {
      "text/plain": [
       "Platforms\n",
       "PC (Microsoft Windows)    489\n",
       "Nintendo Switch           125\n",
       "Mac                       119\n",
       "Xbox One                   88\n",
       "Linux                      85\n",
       "PlayStation 4              83\n",
       "Xbox Series X|S            44\n",
       "PlayStation 5              38\n",
       "iOS                        22\n",
       "Android                    18\n",
       "PlayStation VR             17\n",
       "SteamVR                    15\n",
       "Oculus Quest                9\n",
       "Meta Quest 2                9\n",
       "Oculus VR                   6\n",
       "Oculus Rift                 6\n",
       "PlayStation VR2             4\n",
       "Web browser                 4\n",
       "Windows Mixed Reality       3\n",
       "Google Stadia               2\n",
       "DOS                         2\n",
       "PlayStation 2               1\n",
       "Name: count, dtype: int64"
      ]
     },
     "execution_count": 8,
     "metadata": {},
     "output_type": "execute_result"
    }
   ],
   "source": [
    "# platform summary using value counts\n",
    "release_df[\"Platforms\"].value_counts()"
   ]
  },
  {
   "cell_type": "code",
   "execution_count": 9,
   "metadata": {},
   "outputs": [
    {
     "data": {
      "text/plain": [
       "Regions\n",
       "Worldwide        987\n",
       "North America    135\n",
       "Europe            57\n",
       "Japan              5\n",
       "Asia               2\n",
       "Australia          2\n",
       "Korea              1\n",
       "Name: count, dtype: int64"
      ]
     },
     "execution_count": 9,
     "metadata": {},
     "output_type": "execute_result"
    }
   ],
   "source": [
    "# region summary using value counts\n",
    "release_df[\"Regions\"].value_counts()"
   ]
  },
  {
   "cell_type": "code",
   "execution_count": 10,
   "metadata": {},
   "outputs": [
    {
     "data": {
      "text/plain": [
       "Developers\n",
       "Hyper Hippo Entertainment    3\n",
       "Chasing Carrots              2\n",
       "Jutsu Games                  2\n",
       "Asmodee Digital              2\n",
       "Kyodai                       2\n",
       "                            ..\n",
       "Overall adventures ltd       1\n",
       "Slavic Magic                 1\n",
       "Crate Entertainment          1\n",
       "Stray Bombay                 1\n",
       "Kindred Games                1\n",
       "Name: count, Length: 417, dtype: int64"
      ]
     },
     "execution_count": 10,
     "metadata": {},
     "output_type": "execute_result"
    }
   ],
   "source": [
    "# developer summary using value counts\n",
    "dev_df[\"Developers\"].value_counts()"
   ]
  },
  {
   "cell_type": "code",
   "execution_count": 11,
   "metadata": {},
   "outputs": [
    {
     "data": {
      "text/plain": [
       "Publishers\n",
       "Iceberg Interactive            5\n",
       "Forever Entertainment S. A.    4\n",
       "Team17                         3\n",
       "Plug In Digital                3\n",
       "The Irregular Corporation      3\n",
       "                              ..\n",
       "Ben Johnson (bencelot)         1\n",
       "Snail Games                    1\n",
       "Ballon Moose Games             1\n",
       "Ziff Davis Media               1\n",
       "All Parts Connected            1\n",
       "Name: count, Length: 397, dtype: int64"
      ]
     },
     "execution_count": 11,
     "metadata": {},
     "output_type": "execute_result"
    }
   ],
   "source": [
    "# publisher summary using value counts\n",
    "pub_df[\"Publishers\"].value_counts()"
   ]
  },
  {
   "cell_type": "markdown",
   "metadata": {},
   "source": [
    "# Visualizations"
   ]
  },
  {
   "cell_type": "code",
   "execution_count": 19,
   "metadata": {},
   "outputs": [
    {
     "data": {
      "text/html": [
       "<div>\n",
       "<style scoped>\n",
       "    .dataframe tbody tr th:only-of-type {\n",
       "        vertical-align: middle;\n",
       "    }\n",
       "\n",
       "    .dataframe tbody tr th {\n",
       "        vertical-align: top;\n",
       "    }\n",
       "\n",
       "    .dataframe thead th {\n",
       "        text-align: right;\n",
       "    }\n",
       "</style>\n",
       "<table border=\"1\" class=\"dataframe\">\n",
       "  <thead>\n",
       "    <tr style=\"text-align: right;\">\n",
       "      <th></th>\n",
       "      <th>Title</th>\n",
       "      <th>Average Score</th>\n",
       "      <th>Grade</th>\n",
       "      <th>Score Count</th>\n",
       "    </tr>\n",
       "  </thead>\n",
       "  <tbody>\n",
       "    <tr>\n",
       "      <th>0</th>\n",
       "      <td>Valheim</td>\n",
       "      <td>87.993753</td>\n",
       "      <td>Very High</td>\n",
       "      <td>166</td>\n",
       "    </tr>\n",
       "    <tr>\n",
       "      <th>1</th>\n",
       "      <td>Palworld</td>\n",
       "      <td>70.710829</td>\n",
       "      <td>High</td>\n",
       "      <td>163</td>\n",
       "    </tr>\n",
       "    <tr>\n",
       "      <th>2</th>\n",
       "      <td>7 Days to Die</td>\n",
       "      <td>54.106972</td>\n",
       "      <td>High</td>\n",
       "      <td>141</td>\n",
       "    </tr>\n",
       "    <tr>\n",
       "      <th>3</th>\n",
       "      <td>Satisfactory</td>\n",
       "      <td>74.774596</td>\n",
       "      <td>High</td>\n",
       "      <td>110</td>\n",
       "    </tr>\n",
       "    <tr>\n",
       "      <th>4</th>\n",
       "      <td>Project Zomboid</td>\n",
       "      <td>82.131361</td>\n",
       "      <td>Very High</td>\n",
       "      <td>106</td>\n",
       "    </tr>\n",
       "    <tr>\n",
       "      <th>...</th>\n",
       "      <td>...</td>\n",
       "      <td>...</td>\n",
       "      <td>...</td>\n",
       "      <td>...</td>\n",
       "    </tr>\n",
       "    <tr>\n",
       "      <th>410</th>\n",
       "      <td>Final Assault</td>\n",
       "      <td>70.000000</td>\n",
       "      <td>High</td>\n",
       "      <td>1</td>\n",
       "    </tr>\n",
       "    <tr>\n",
       "      <th>411</th>\n",
       "      <td>BoxVR</td>\n",
       "      <td>80.000000</td>\n",
       "      <td>Very High</td>\n",
       "      <td>1</td>\n",
       "    </tr>\n",
       "    <tr>\n",
       "      <th>412</th>\n",
       "      <td>Sipho</td>\n",
       "      <td>70.000000</td>\n",
       "      <td>High</td>\n",
       "      <td>1</td>\n",
       "    </tr>\n",
       "    <tr>\n",
       "      <th>413</th>\n",
       "      <td>The Snowboard Game</td>\n",
       "      <td>60.000000</td>\n",
       "      <td>High</td>\n",
       "      <td>1</td>\n",
       "    </tr>\n",
       "    <tr>\n",
       "      <th>414</th>\n",
       "      <td>Swords 'n Magic and Stuff</td>\n",
       "      <td>80.000000</td>\n",
       "      <td>Very High</td>\n",
       "      <td>1</td>\n",
       "    </tr>\n",
       "  </tbody>\n",
       "</table>\n",
       "<p>415 rows × 4 columns</p>\n",
       "</div>"
      ],
      "text/plain": [
       "                         Title  Average Score      Grade  Score Count\n",
       "0                      Valheim      87.993753  Very High          166\n",
       "1                     Palworld      70.710829       High          163\n",
       "2                7 Days to Die      54.106972       High          141\n",
       "3                 Satisfactory      74.774596       High          110\n",
       "4              Project Zomboid      82.131361  Very High          106\n",
       "..                         ...            ...        ...          ...\n",
       "410              Final Assault      70.000000       High            1\n",
       "411                      BoxVR      80.000000  Very High            1\n",
       "412                      Sipho      70.000000       High            1\n",
       "413         The Snowboard Game      60.000000       High            1\n",
       "414  Swords 'n Magic and Stuff      80.000000  Very High            1\n",
       "\n",
       "[415 rows x 4 columns]"
      ]
     },
     "execution_count": 19,
     "metadata": {},
     "output_type": "execute_result"
    }
   ],
   "source": [
    "# Bin/Categorize average score into letter grades\n",
    "# Define the bins and labels for the categories\n",
    "bins = [0,25,50,75,100]\n",
    "labels = ['Low', 'Medium', 'High', 'Very High']\n",
    "\n",
    "# Create a new column with categorical values based on binning the 'NumericValues' column\n",
    "game_avg_df['Grade'] = pd.cut(game_avg_df['Average Score'], bins=bins, labels=labels, include_lowest=True)\n",
    "game_avg_df= game_avg_df[[\"Title\", \"Average Score\", \"Grade\", \"Score Count\"]]\n",
    "game_avg_df\n"
   ]
  },
  {
   "cell_type": "code",
   "execution_count": 15,
   "metadata": {},
   "outputs": [
    {
     "data": {
      "text/plain": [
       "Grade\n",
       "High         222\n",
       "Very High    130\n",
       "Medium        57\n",
       "Low            6\n",
       "Name: count, dtype: int64"
      ]
     },
     "execution_count": 15,
     "metadata": {},
     "output_type": "execute_result"
    }
   ],
   "source": [
    "# summary of how many games in each letter grade using value counts\n",
    "game_avg_df[\"Grade\"].value_counts()"
   ]
  },
  {
   "cell_type": "markdown",
   "metadata": {},
   "source": [
    "## Regions and Average Score Trends (Pie chart)"
   ]
  },
  {
   "cell_type": "code",
   "execution_count": 21,
   "metadata": {},
   "outputs": [
    {
     "data": {
      "text/html": [
       "<div>\n",
       "<style scoped>\n",
       "    .dataframe tbody tr th:only-of-type {\n",
       "        vertical-align: middle;\n",
       "    }\n",
       "\n",
       "    .dataframe tbody tr th {\n",
       "        vertical-align: top;\n",
       "    }\n",
       "\n",
       "    .dataframe thead th {\n",
       "        text-align: right;\n",
       "    }\n",
       "</style>\n",
       "<table border=\"1\" class=\"dataframe\">\n",
       "  <thead>\n",
       "    <tr style=\"text-align: right;\">\n",
       "      <th></th>\n",
       "      <th>Title</th>\n",
       "      <th>Average Score</th>\n",
       "      <th>Grade</th>\n",
       "      <th>Score Count</th>\n",
       "      <th>Dates</th>\n",
       "      <th>Platforms</th>\n",
       "      <th>Regions</th>\n",
       "    </tr>\n",
       "  </thead>\n",
       "  <tbody>\n",
       "    <tr>\n",
       "      <th>0</th>\n",
       "      <td>Valheim</td>\n",
       "      <td>87.993753</td>\n",
       "      <td>Very High</td>\n",
       "      <td>166</td>\n",
       "      <td>Mar 14, 2023</td>\n",
       "      <td>Xbox One</td>\n",
       "      <td>Worldwide</td>\n",
       "    </tr>\n",
       "    <tr>\n",
       "      <th>1</th>\n",
       "      <td>Valheim</td>\n",
       "      <td>87.993753</td>\n",
       "      <td>Very High</td>\n",
       "      <td>166</td>\n",
       "      <td>Mar 14, 2023</td>\n",
       "      <td>Xbox Series X|S</td>\n",
       "      <td>Worldwide</td>\n",
       "    </tr>\n",
       "    <tr>\n",
       "      <th>2</th>\n",
       "      <td>Valheim</td>\n",
       "      <td>87.993753</td>\n",
       "      <td>Very High</td>\n",
       "      <td>166</td>\n",
       "      <td>Sep 16, 2022</td>\n",
       "      <td>Xbox One</td>\n",
       "      <td>North America</td>\n",
       "    </tr>\n",
       "    <tr>\n",
       "      <th>3</th>\n",
       "      <td>Valheim</td>\n",
       "      <td>87.993753</td>\n",
       "      <td>Very High</td>\n",
       "      <td>166</td>\n",
       "      <td>Sep 16, 2022</td>\n",
       "      <td>Xbox Series X|S</td>\n",
       "      <td>North America</td>\n",
       "    </tr>\n",
       "    <tr>\n",
       "      <th>4</th>\n",
       "      <td>Valheim</td>\n",
       "      <td>87.993753</td>\n",
       "      <td>Very High</td>\n",
       "      <td>166</td>\n",
       "      <td>Feb 02, 2021</td>\n",
       "      <td>PC (Microsoft Windows)</td>\n",
       "      <td>Worldwide</td>\n",
       "    </tr>\n",
       "    <tr>\n",
       "      <th>...</th>\n",
       "      <td>...</td>\n",
       "      <td>...</td>\n",
       "      <td>...</td>\n",
       "      <td>...</td>\n",
       "      <td>...</td>\n",
       "      <td>...</td>\n",
       "      <td>...</td>\n",
       "    </tr>\n",
       "    <tr>\n",
       "      <th>1184</th>\n",
       "      <td>Sipho</td>\n",
       "      <td>70.000000</td>\n",
       "      <td>High</td>\n",
       "      <td>1</td>\n",
       "      <td>Nov 13, 2018</td>\n",
       "      <td>PC (Microsoft Windows)</td>\n",
       "      <td>Worldwide</td>\n",
       "    </tr>\n",
       "    <tr>\n",
       "      <th>1185</th>\n",
       "      <td>Sipho</td>\n",
       "      <td>70.000000</td>\n",
       "      <td>High</td>\n",
       "      <td>1</td>\n",
       "      <td>Nov 13, 2018</td>\n",
       "      <td>Mac</td>\n",
       "      <td>Worldwide</td>\n",
       "    </tr>\n",
       "    <tr>\n",
       "      <th>1186</th>\n",
       "      <td>Sipho</td>\n",
       "      <td>70.000000</td>\n",
       "      <td>High</td>\n",
       "      <td>1</td>\n",
       "      <td>Nov 13, 2018</td>\n",
       "      <td>Linux</td>\n",
       "      <td>Worldwide</td>\n",
       "    </tr>\n",
       "    <tr>\n",
       "      <th>1187</th>\n",
       "      <td>The Snowboard Game</td>\n",
       "      <td>60.000000</td>\n",
       "      <td>High</td>\n",
       "      <td>1</td>\n",
       "      <td>Apr 24, 2018</td>\n",
       "      <td>PC (Microsoft Windows)</td>\n",
       "      <td>Worldwide</td>\n",
       "    </tr>\n",
       "    <tr>\n",
       "      <th>1188</th>\n",
       "      <td>Swords 'n Magic and Stuff</td>\n",
       "      <td>80.000000</td>\n",
       "      <td>Very High</td>\n",
       "      <td>1</td>\n",
       "      <td>Sep 08, 2020</td>\n",
       "      <td>PC (Microsoft Windows)</td>\n",
       "      <td>Worldwide</td>\n",
       "    </tr>\n",
       "  </tbody>\n",
       "</table>\n",
       "<p>1189 rows × 7 columns</p>\n",
       "</div>"
      ],
      "text/plain": [
       "                          Title  Average Score      Grade  Score Count  \\\n",
       "0                       Valheim      87.993753  Very High          166   \n",
       "1                       Valheim      87.993753  Very High          166   \n",
       "2                       Valheim      87.993753  Very High          166   \n",
       "3                       Valheim      87.993753  Very High          166   \n",
       "4                       Valheim      87.993753  Very High          166   \n",
       "...                         ...            ...        ...          ...   \n",
       "1184                      Sipho      70.000000       High            1   \n",
       "1185                      Sipho      70.000000       High            1   \n",
       "1186                      Sipho      70.000000       High            1   \n",
       "1187         The Snowboard Game      60.000000       High            1   \n",
       "1188  Swords 'n Magic and Stuff      80.000000  Very High            1   \n",
       "\n",
       "             Dates               Platforms        Regions  \n",
       "0     Mar 14, 2023                Xbox One      Worldwide  \n",
       "1     Mar 14, 2023         Xbox Series X|S      Worldwide  \n",
       "2     Sep 16, 2022                Xbox One  North America  \n",
       "3     Sep 16, 2022         Xbox Series X|S  North America  \n",
       "4     Feb 02, 2021  PC (Microsoft Windows)      Worldwide  \n",
       "...            ...                     ...            ...  \n",
       "1184  Nov 13, 2018  PC (Microsoft Windows)      Worldwide  \n",
       "1185  Nov 13, 2018                     Mac      Worldwide  \n",
       "1186  Nov 13, 2018                   Linux      Worldwide  \n",
       "1187  Apr 24, 2018  PC (Microsoft Windows)      Worldwide  \n",
       "1188  Sep 08, 2020  PC (Microsoft Windows)      Worldwide  \n",
       "\n",
       "[1189 rows x 7 columns]"
      ]
     },
     "execution_count": 21,
     "metadata": {},
     "output_type": "execute_result"
    }
   ],
   "source": [
    "# \n",
    "release_df['Grade'] = pd.cut(release_df['Average Score'], bins=bins, labels=labels, include_lowest=True)\n",
    "release_df= release_df[[ \"Title\", \"Average Score\", \"Grade\", \"Score Count\",\"Dates\",\"Platforms\",\"Regions\"]]\n",
    "release_df\n"
   ]
  },
  {
   "cell_type": "code",
   "execution_count": 24,
   "metadata": {},
   "outputs": [
    {
     "data": {
      "text/plain": [
       "Regions\n",
       "Europe            10\n",
       "North America     30\n",
       "Worldwide        302\n",
       "Name: Grade, dtype: int64"
      ]
     },
     "execution_count": 24,
     "metadata": {},
     "output_type": "execute_result"
    }
   ],
   "source": [
    "released_top_rated_df =release_df[release_df[\"Grade\"]==\"Very High\"].groupby(\"Regions\")[\"Grade\"].count()\n",
    "released_top_rated_df"
   ]
  },
  {
   "cell_type": "markdown",
   "metadata": {},
   "source": [
    "## Genre and Average Score (Stacked bar chart)"
   ]
  },
  {
   "cell_type": "code",
   "execution_count": null,
   "metadata": {},
   "outputs": [
    {
     "data": {
      "text/plain": [
       "Genres\n",
       "Adventure                     66.001421\n",
       "Arcade                        69.395032\n",
       "Card & Board Game             72.193049\n",
       "Fighting                      70.485443\n",
       "Hack and slash/Beat 'em up    71.270468\n",
       "Indie                         67.000865\n",
       "MOBA                          48.219199\n",
       "Music                         59.428325\n",
       "Platform                      69.363834\n",
       "Point-and-click               75.081264\n",
       "Puzzle                        70.135991\n",
       "Racing                        68.446997\n",
       "Real Time Strategy (RTS)      69.250815\n",
       "Role-playing (RPG)            66.480939\n",
       "Shooter                       66.767917\n",
       "Simulator                     67.948971\n",
       "Sport                         73.272496\n",
       "Strategy                      67.854874\n",
       "Tactical                      70.796077\n",
       "Turn-based strategy (TBS)     70.274006\n",
       "Visual Novel                  71.936218\n",
       "Name: Average Score, dtype: float64"
      ]
     },
     "execution_count": 4,
     "metadata": {},
     "output_type": "execute_result"
    }
   ],
   "source": [
    "# genre graphs \n",
    "#genre_df.groupby(\"Genres\")[\"Average Score\"].mean()\n",
    "genre_average = genre_df.groupby(\"Genres\")[\"Average Score\"].mean()\n",
    "genre_average"
   ]
  },
  {
   "cell_type": "markdown",
   "metadata": {},
   "source": [
    "## Genres and Average Score (Stacked bar chart)"
   ]
  },
  {
   "cell_type": "code",
   "execution_count": null,
   "metadata": {},
   "outputs": [
    {
     "data": {
      "image/png": "[encoded data removed]",
      "text/plain": [
       "<Figure size 640x480 with 1 Axes>"
      ]
     },
     "metadata": {},
     "output_type": "display_data"
    }
   ],
   "source": [
    "plt.barh(genre_average.index,genre_average.values)\n",
    "plt.xlabel('Genres')\n",
    "plt.ylabel('Average Score')\n",
    "#plt.xticks(rotation=90)\n",
    "plt.title(\"Average Score by Genres\")\n",
    "plt.show()"
   ]
  },
  {
   "cell_type": "code",
   "execution_count": null,
   "metadata": {},
   "outputs": [
    {
     "data": {
      "text/plain": [
       "Game Modes\n",
       "Battle Royale                         69.992044\n",
       "Co-operative                          66.806289\n",
       "Massively Multiplayer Online (MMO)    66.179110\n",
       "Multiplayer                           67.533027\n",
       "Single player                         67.854020\n",
       "Split screen                          61.863682\n",
       "Name: Average Score, dtype: float64"
      ]
     },
     "execution_count": 6,
     "metadata": {},
     "output_type": "execute_result"
    }
   ],
   "source": [
    "mode_average = game_mode_df.groupby(\"Game Modes\")[\"Average Score\"].mean()\n",
    "mode_average"
   ]
  },
  {
   "cell_type": "code",
   "execution_count": null,
   "metadata": {},
   "outputs": [
    {
     "data": {
      "image/png": "[encoded data removed]",
      "text/plain": [
       "<Figure size 640x480 with 1 Axes>"
      ]
     },
     "metadata": {},
     "output_type": "display_data"
    }
   ],
   "source": [
    "plt.barh(mode_average.index,mode_average.values)\n",
    "plt.xlabel('Game Mode')\n",
    "plt.ylabel('Average Score')\n",
    "#plt.xticks(rotation=90)\n",
    "plt.title(\"Average Score by Game Mode\")\n",
    "plt.show()\n"
   ]
  },
  {
   "cell_type": "markdown",
   "metadata": {},
   "source": [
    "# Release Dates, Platform, and Average Score (Line Chart)"
   ]
  },
  {
   "cell_type": "code",
   "execution_count": null,
   "metadata": {},
   "outputs": [],
   "source": []
  }
 ],
 "metadata": {
  "kernelspec": {
   "display_name": "base",
   "language": "python",
   "name": "python3"
  },
  "language_info": {
   "codemirror_mode": {
    "name": "ipython",
    "version": 3
   },
   "file_extension": ".py",
   "mimetype": "text/x-python",
   "name": "python",
   "nbconvert_exporter": "python",
   "pygments_lexer": "ipython3",
   "version": "3.11.7"
  }
 },
 "nbformat": 4,
 "nbformat_minor": 2
}
