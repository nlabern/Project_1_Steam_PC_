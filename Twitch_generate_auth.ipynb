{
 "cells": [
  {
   "cell_type": "code",
   "execution_count": 1,
   "id": "79051266-3a9d-4781-8137-71874e11b9a0",
   "metadata": {},
   "outputs": [],
   "source": [
    "import requests\n",
    "import json"
   ]
  },
  {
   "cell_type": "code",
   "execution_count": 2,
   "id": "80604b71-3a01-4301-9c7a-ad5d98753dbe",
   "metadata": {},
   "outputs": [],
   "source": [
    "# Client_ID and Secret_ID must be obtained beforehand\n",
    "client_id = \"9az09jhzclhq9sz36f0wdeprjdtdrn\"\n",
    "secret = \"5gpqh7e8h24xps7mmdqjgftdiy6938\""
   ]
  },
  {
   "cell_type": "code",
   "execution_count": 3,
   "id": "e9af0830-a7fa-45b6-825e-bbdd08d665ec",
   "metadata": {},
   "outputs": [],
   "source": [
    "# Form the URL:\n",
    "url = f\"https://id.twitch.tv/oauth2/token?client_id={client_id}&client_secret={secret}&grant_type=client_credentials\""
   ]
  },
  {
   "cell_type": "code",
   "execution_count": 4,
   "id": "e9c40bcf-8efb-4a0f-8c44-f6c08b553773",
   "metadata": {},
   "outputs": [
    {
     "name": "stdout",
     "output_type": "stream",
     "text": [
      "Nice!! Response: {\"access_token\":\"t2xsuznicqdrlae83uywlsmgo7u9sx\",\"expires_in\":4986517,\"token_type\":\"bearer\"}\n",
      "\n"
     ]
    }
   ],
   "source": [
    "# Check response:\n",
    "response = requests.post(url)\n",
    "if response.status_code == 200:\n",
    "    print(f\"Nice!! Response: {response.text}\")\n",
    "else:\n",
    "    print(f\"Nope!! Status code: {response.status_code}\")"
   ]
  },
  {
   "cell_type": "code",
   "execution_count": null,
   "id": "ab9a35f5-9888-46a4-ba44-7f995234db6c",
   "metadata": {},
   "outputs": [],
   "source": []
  }
 ],
 "metadata": {
  "kernelspec": {
   "display_name": "Python 3 (ipykernel)",
   "language": "python",
   "name": "python3"
  },
  "language_info": {
   "codemirror_mode": {
    "name": "ipython",
    "version": 3
   },
   "file_extension": ".py",
   "mimetype": "text/x-python",
   "name": "python",
   "nbconvert_exporter": "python",
   "pygments_lexer": "ipython3",
   "version": "3.11.7"
  }
 },
 "nbformat": 4,
 "nbformat_minor": 5
}
